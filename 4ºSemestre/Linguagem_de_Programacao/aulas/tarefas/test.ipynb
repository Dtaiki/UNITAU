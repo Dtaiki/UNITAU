{
 "cells": [
  {
   "cell_type": "code",
   "execution_count": 2,
   "metadata": {},
   "outputs": [],
   "source": [
    "import os"
   ]
  },
  {
   "cell_type": "code",
   "execution_count": 9,
   "metadata": {},
   "outputs": [],
   "source": [
    "filePath = r'C:\\Users\\ukita\\Desktop\\desktop\\proj\\lp4\\aulas\\tarefas\\dados'\n",
    "fileNames = os.listdir(filePath)"
   ]
  },
  {
   "cell_type": "code",
   "execution_count": 15,
   "metadata": {},
   "outputs": [
    {
     "name": "stdout",
     "output_type": "stream",
     "text": [
      "aaaaaaaaaaaaaaaaaaaa\n",
      "\n",
      "bbbbbbbbbbbbbbbbbbbbbbb\n",
      "ccccccccccccccccccccccc\n"
     ]
    }
   ],
   "source": [
    "for name in fileNames:\n",
    "    path = os.path.join(filePath, name)\n",
    "    if os.path.isfile(path):\n",
    "        with open(path, 'r') as text:\n",
    "            content = text.read()\n",
    "        print(content)\n"
   ]
  }
 ],
 "metadata": {
  "kernelspec": {
   "display_name": "Python 3",
   "language": "python",
   "name": "python3"
  },
  "language_info": {
   "codemirror_mode": {
    "name": "ipython",
    "version": 3
   },
   "file_extension": ".py",
   "mimetype": "text/x-python",
   "name": "python",
   "nbconvert_exporter": "python",
   "pygments_lexer": "ipython3",
   "version": "3.11.4"
  },
  "orig_nbformat": 4
 },
 "nbformat": 4,
 "nbformat_minor": 2
}
